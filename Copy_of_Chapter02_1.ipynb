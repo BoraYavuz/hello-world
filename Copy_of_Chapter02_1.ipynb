{
  "cells": [
    {
      "cell_type": "markdown",
      "metadata": {
        "id": "view-in-github",
        "colab_type": "text"
      },
      "source": [
        "<a href=\"https://colab.research.google.com/github/BoraYavuz/hello-world/blob/master/Copy_of_Chapter02_1.ipynb\" target=\"_parent\"><img src=\"https://colab.research.google.com/assets/colab-badge.svg\" alt=\"Open In Colab\"/></a>"
      ]
    },
    {
      "cell_type": "markdown",
      "metadata": {
        "id": "hrVam2Sz5EE8"
      },
      "source": [
        "# Deep Learning with PyTorch Step-by-Step: A Beginner's Guide"
      ]
    },
    {
      "cell_type": "markdown",
      "metadata": {
        "id": "C_0IlZtv5EFA"
      },
      "source": [
        "# Chapter 2.1"
      ]
    },
    {
      "cell_type": "code",
      "execution_count": 1,
      "metadata": {
        "id": "WGu8vJ__5EFB",
        "colab": {
          "base_uri": "https://localhost:8080/"
        },
        "outputId": "1d52539a-8cd0-423d-96c5-81b7fb76754b"
      },
      "outputs": [
        {
          "output_type": "stream",
          "name": "stdout",
          "text": [
            "Downloading files from GitHub repo to Colab...\n",
            "Finished!\n"
          ]
        }
      ],
      "source": [
        "try:\n",
        "    import google.colab\n",
        "    import requests\n",
        "    url = 'https://raw.githubusercontent.com/dvgodoy/PyTorchStepByStep/master/config.py'\n",
        "    r = requests.get(url, allow_redirects=True)\n",
        "    open('config.py', 'wb').write(r.content)\n",
        "except ModuleNotFoundError:\n",
        "    pass\n",
        "\n",
        "from config import *\n",
        "config_chapter2_1()\n",
        "# This is needed to render the plots in this chapter\n",
        "from plots.chapter2_1 import *"
      ]
    },
    {
      "cell_type": "code",
      "execution_count": 2,
      "metadata": {
        "id": "vU0Kk9Y95EFE"
      },
      "outputs": [],
      "source": [
        "import numpy as np\n",
        "import datetime\n",
        "\n",
        "import torch\n",
        "import torch.optim as optim\n",
        "import torch.nn as nn\n",
        "import torch.functional as F\n",
        "from torch.utils.data import DataLoader, TensorDataset, random_split\n",
        "from torch.utils.tensorboard import SummaryWriter\n",
        "\n",
        "import matplotlib.pyplot as plt\n",
        "%matplotlib inline\n",
        "plt.style.use('fivethirtyeight')"
      ]
    },
    {
      "cell_type": "markdown",
      "metadata": {
        "id": "jCBryOh85EFF"
      },
      "source": [
        "# Going Classy"
      ]
    },
    {
      "cell_type": "markdown",
      "metadata": {
        "id": "c_t_qPZj5EFF"
      },
      "source": [
        "## The Class"
      ]
    },
    {
      "cell_type": "code",
      "execution_count": null,
      "metadata": {
        "id": "Bm6K_pGY5EFG"
      },
      "outputs": [],
      "source": [
        "# A completely empty (and useless) class\n",
        "class StepByStep(object):\n",
        "    pass"
      ]
    },
    {
      "cell_type": "markdown",
      "metadata": {
        "id": "78wF9tfR5EFG"
      },
      "source": [
        "## The Constructor"
      ]
    },
    {
      "cell_type": "markdown",
      "metadata": {
        "id": "SerpZ5xn5EFH"
      },
      "source": [
        "### Arguments"
      ]
    },
    {
      "cell_type": "code",
      "execution_count": null,
      "metadata": {
        "id": "fkRXk9Wg5EFH"
      },
      "outputs": [],
      "source": [
        "class StepByStep(object):\n",
        "    def __init__(self, model, loss_fn, optimizer):\n",
        "        # Here we define the attributes of our class\n",
        "\n",
        "        # We start by storing the arguments as attributes\n",
        "        # to use them later\n",
        "        self.model = model\n",
        "        self.loss_fn = loss_fn\n",
        "        self.optimizer = optimizer\n",
        "        self.device = 'cuda' if torch.cuda.is_available() else 'cpu'\n",
        "        # Let's send the model to the specified device right away\n",
        "        self.model.to(self.device)\n",
        "\n",
        "    def to(self, device):\n",
        "        # This method allows the user to specify a different device\n",
        "        # It sets the corresponding attribute (to be used later in\n",
        "        # the mini-batches) and sends the model to the device\n",
        "        try:\n",
        "            self.device = device\n",
        "            self.model.to(self.device)\n",
        "        except RuntimeError:\n",
        "            self.device = 'cuda' if torch.cuda.is_available() else 'cpu'\n",
        "            print(f\"Couldn't send it to {device}, sending it to {self.device} instead.\")\n",
        "            self.model.to(self.device)"
      ]
    },
    {
      "cell_type": "markdown",
      "metadata": {
        "id": "_nS32lpT5EFI"
      },
      "source": [
        "### Placeholders"
      ]
    },
    {
      "cell_type": "code",
      "execution_count": null,
      "metadata": {
        "id": "f_UucEbI5EFI"
      },
      "outputs": [],
      "source": [
        "class StepByStep(object):\n",
        "    def __init__(self, model, loss_fn, optimizer):\n",
        "        # Here we define the attributes of our class\n",
        "\n",
        "        # We start by storing the arguments as attributes\n",
        "        # to use them later\n",
        "        self.model = model\n",
        "        self.loss_fn = loss_fn\n",
        "        self.optimizer = optimizer\n",
        "        self.device = 'cuda' if torch.cuda.is_available() else 'cpu'\n",
        "        # Let's send the model to the specified device right away\n",
        "        self.model.to(self.device)\n",
        "\n",
        "        # These attributes are defined here, but since they are\n",
        "        # not available at the moment of creation, we keep them None\n",
        "        self.train_loader = None\n",
        "        self.val_loader = None\n",
        "        self.writer = None\n",
        "\n",
        "    def to(self, device):\n",
        "        # This method allows the user to specify a different device\n",
        "        # It sets the corresponding attribute (to be used later in\n",
        "        # the mini-batches) and sends the model to the device\n",
        "        try:\n",
        "            self.device = device\n",
        "            self.model.to(self.device)\n",
        "        except RuntimeError:\n",
        "            self.device = 'cuda' if torch.cuda.is_available() else 'cpu'\n",
        "            print(f\"Couldn't send it to {device}, sending it to {self.device} instead.\")\n",
        "            self.model.to(self.device)\n",
        "\n",
        "    def set_loaders(self, train_loader, val_loader=None):\n",
        "        # This method allows the user to define which train_loader\n",
        "        # (and val_loader, optionally) to use\n",
        "        # Both loaders are then assigned to attributes of the class\n",
        "        # So they can be referred to later\n",
        "        self.train_loader = train_loader\n",
        "        self.val_loader = val_loader\n",
        "\n",
        "    def set_tensorboard(self, name, folder='runs'):\n",
        "        # This method allows the user to create a SummaryWriter to\n",
        "        # interface with TensorBoard\n",
        "        suffix = datetime.datetime.now().strftime('%Y%m%d%H%M%S')\n",
        "        self.writer = SummaryWriter(f'{folder}/{name}_{suffix}')"
      ]
    },
    {
      "cell_type": "markdown",
      "metadata": {
        "id": "nrzBHQbb5EFI"
      },
      "source": [
        "### Variables"
      ]
    },
    {
      "cell_type": "code",
      "execution_count": null,
      "metadata": {
        "id": "4cCCJi8o5EFJ"
      },
      "outputs": [],
      "source": [
        "class StepByStep(object):\n",
        "    def __init__(self, model, loss_fn, optimizer):\n",
        "        # Here we define the attributes of our class\n",
        "\n",
        "        # We start by storing the arguments as attributes\n",
        "        # to use them later\n",
        "        self.model = model\n",
        "        self.loss_fn = loss_fn\n",
        "        self.optimizer = optimizer\n",
        "        self.device = 'cuda' if torch.cuda.is_available() else 'cpu'\n",
        "        # Let's send the model to the specified device right away\n",
        "        self.model.to(self.device)\n",
        "\n",
        "        # These attributes are defined here, but since they are\n",
        "        # not available at the moment of creation, we keep them None\n",
        "        self.train_loader = None\n",
        "        self.val_loader = None\n",
        "        self.writer = None\n",
        "\n",
        "        # These attributes are going to be computed internally\n",
        "        self.losses = []\n",
        "        self.val_losses = []\n",
        "        self.total_epochs = 0\n",
        "\n",
        "    def to(self, device):\n",
        "        # This method allows the user to specify a different device\n",
        "        # It sets the corresponding attribute (to be used later in\n",
        "        # the mini-batches) and sends the model to the device\n",
        "        try:\n",
        "            self.device = device\n",
        "            self.model.to(self.device)\n",
        "        except RuntimeError:\n",
        "            self.device = 'cuda' if torch.cuda.is_available() else 'cpu'\n",
        "            print(f\"Couldn't send it to {device}, sending it to {self.device} instead.\")\n",
        "            self.model.to(self.device)\n",
        "\n",
        "    def set_loaders(self, train_loader, val_loader=None):\n",
        "        # This method allows the user to define which train_loader\n",
        "        # (and val_loader, optionally) to use\n",
        "        # Both loaders are then assigned to attributes of the class\n",
        "        # So they can be referred to later\n",
        "        self.train_loader = train_loader\n",
        "        self.val_loader = val_loader\n",
        "\n",
        "    def set_tensorboard(self, name, folder='runs'):\n",
        "        # This method allows the user to create a SummaryWriter to\n",
        "        # interface with TensorBoard\n",
        "        suffix = datetime.datetime.now().strftime('%Y%m%d%H%M%S')\n",
        "        self.writer = SummaryWriter(f'{folder}/{name}_{suffix}')"
      ]
    },
    {
      "cell_type": "markdown",
      "metadata": {
        "id": "AU__AJ-75EFJ"
      },
      "source": [
        "### Functions"
      ]
    },
    {
      "cell_type": "code",
      "execution_count": null,
      "metadata": {
        "id": "h9udDtoe5EFJ"
      },
      "outputs": [],
      "source": [
        "class StepByStep(object):\n",
        "    def __init__(self, model, loss_fn, optimizer):\n",
        "        # Here we define the attributes of our class\n",
        "\n",
        "        # We start by storing the arguments as attributes\n",
        "        # to use them later\n",
        "        self.model = model\n",
        "        self.loss_fn = loss_fn\n",
        "        self.optimizer = optimizer\n",
        "        self.device = 'cuda' if torch.cuda.is_available() else 'cpu'\n",
        "        # Let's send the model to the specified device right away\n",
        "        self.model.to(self.device)\n",
        "\n",
        "        # These attributes are defined here, but since they are\n",
        "        # not available at the moment of creation, we keep them None\n",
        "        self.train_loader = None\n",
        "        self.val_loader = None\n",
        "        self.writer = None\n",
        "\n",
        "        # These attributes are going to be computed internally\n",
        "        self.losses = []\n",
        "        self.val_losses = []\n",
        "        self.total_epochs = 0\n",
        "\n",
        "        # Creates the train_step function for our model,\n",
        "        # loss function and optimizer\n",
        "        # Note: there are NO ARGS there! It makes use of the class\n",
        "        # attributes directly\n",
        "        self.train_step_fn = self._make_train_step()\n",
        "        # Creates the val_step function for our model and loss\n",
        "        self.val_step_fn = self._make_val_step()\n",
        "\n",
        "    def to(self, device):\n",
        "        # This method allows the user to specify a different device\n",
        "        # It sets the corresponding attribute (to be used later in\n",
        "        # the mini-batches) and sends the model to the device\n",
        "        try:\n",
        "            self.device = device\n",
        "            self.model.to(self.device)\n",
        "        except RuntimeError:\n",
        "            self.device = 'cuda' if torch.cuda.is_available() else 'cpu'\n",
        "            print(f\"Couldn't send it to {device}, sending it to {self.device} instead.\")\n",
        "            self.model.to(self.device)\n",
        "\n",
        "    def set_loaders(self, train_loader, val_loader=None):\n",
        "        # This method allows the user to define which train_loader\n",
        "        # (and val_loader, optionally) to use\n",
        "        # Both loaders are then assigned to attributes of the class\n",
        "        # So they can be referred to later\n",
        "        self.train_loader = train_loader\n",
        "        self.val_loader = val_loader\n",
        "\n",
        "    def set_tensorboard(self, name, folder='runs'):\n",
        "        # This method allows the user to create a SummaryWriter to\n",
        "        # interface with TensorBoard\n",
        "        suffix = datetime.datetime.now().strftime('%Y%m%d%H%M%S')\n",
        "        self.writer = SummaryWriter(f'{folder}/{name}_{suffix}')"
      ]
    },
    {
      "cell_type": "markdown",
      "metadata": {
        "id": "idGS6jja5EFK"
      },
      "source": [
        "### Step Methods"
      ]
    },
    {
      "cell_type": "code",
      "execution_count": null,
      "metadata": {
        "id": "zQXn0fQP5EFK"
      },
      "outputs": [],
      "source": [
        "def _make_train_step_fn(self):\n",
        "    # This method does not need ARGS... it can refer to\n",
        "    # the attributes: self.model, self.loss_fn and self.optimizer\n",
        "\n",
        "    # Builds function that performs a step in the train loop\n",
        "    def perform_train_step_fn(x, y):\n",
        "        # Sets model to TRAIN mode\n",
        "        self.model.train()\n",
        "\n",
        "        # Step 1 - Computes our model's predicted output - forward pass\n",
        "        yhat = self.model(x)\n",
        "        # Step 2 - Computes the loss\n",
        "        loss = self.loss_fn(yhat, y)\n",
        "        # Step 3 - Computes gradients for both \"b\" and \"w\" parameters\n",
        "        loss.backward()\n",
        "        # Step 4 - Updates parameters using gradients and the\n",
        "        # learning rate\n",
        "        self.optimizer.step()\n",
        "        self.optimizer.zero_grad()\n",
        "\n",
        "        # Returns the loss\n",
        "        return loss.item()\n",
        "\n",
        "    # Returns the function that will be called inside the train loop\n",
        "    return perform_train_step_fn\n",
        "\n",
        "def _make_val_step_fn(self):\n",
        "    # Builds function that performs a step in the validation loop\n",
        "    def perform_val_step_fn(x, y):\n",
        "        # Sets model to EVAL mode\n",
        "        self.model.eval()\n",
        "\n",
        "        # Step 1 - Computes our model's predicted output - forward pass\n",
        "        yhat = self.model(x)\n",
        "        # Step 2 - Computes the loss\n",
        "        loss = self.loss_fn(yhat, y)\n",
        "        # There is no need to compute Steps 3 and 4,\n",
        "        # since we don't update parameters during evaluation\n",
        "        return loss.item()\n",
        "\n",
        "    return perform_val_step_fn"
      ]
    },
    {
      "cell_type": "code",
      "execution_count": null,
      "metadata": {
        "id": "94dDjQ9v5EFK"
      },
      "outputs": [],
      "source": [
        "# ATTENTION! Using SETATTR for educational purposes only :-)\n",
        "setattr(StepByStep, '_make_train_step_fn', _make_train_step_fn)\n",
        "setattr(StepByStep, '_make_val_step_fn', _make_val_step_fn)"
      ]
    },
    {
      "cell_type": "markdown",
      "metadata": {
        "id": "SHLyIC2h5EFK"
      },
      "source": [
        "### setattr"
      ]
    },
    {
      "cell_type": "code",
      "execution_count": null,
      "metadata": {
        "id": "22oYpGUl5EFL"
      },
      "outputs": [],
      "source": [
        "class Dog(object):\n",
        "    def __init__(self, name):\n",
        "        self.name = name"
      ]
    },
    {
      "cell_type": "code",
      "execution_count": null,
      "metadata": {
        "id": "XRNzocDp5EFL",
        "outputId": "551a0416-d379-4591-d3b9-5998c26ae89a"
      },
      "outputs": [
        {
          "name": "stdout",
          "output_type": "stream",
          "text": [
            "Rex\n"
          ]
        }
      ],
      "source": [
        "rex = Dog('Rex')\n",
        "print(rex.name)"
      ]
    },
    {
      "cell_type": "code",
      "execution_count": null,
      "metadata": {
        "id": "y4f89o755EFM"
      },
      "outputs": [],
      "source": [
        "def bark(dog):\n",
        "    print('{} barks: \"Woof!\"'.format(dog.name))"
      ]
    },
    {
      "cell_type": "code",
      "execution_count": null,
      "metadata": {
        "id": "vGmhLaOg5EFM",
        "outputId": "ff8d1968-08af-4391-affc-e64f90c82b0c"
      },
      "outputs": [
        {
          "name": "stdout",
          "output_type": "stream",
          "text": [
            "Rex barks: \"Woof!\"\n"
          ]
        }
      ],
      "source": [
        "bark(rex)"
      ]
    },
    {
      "cell_type": "code",
      "execution_count": null,
      "metadata": {
        "id": "Shwwnh605EFM"
      },
      "outputs": [],
      "source": [
        "def bark(self):\n",
        "    print('{} barks: \"Woof!\"'.format(self.name))\n",
        "\n",
        "setattr(Dog, 'bark', bark)"
      ]
    },
    {
      "cell_type": "code",
      "execution_count": null,
      "metadata": {
        "id": "H4Je0gXl5EFN",
        "outputId": "e77fc84f-5cc0-4897-aba0-2b63c8e760b6"
      },
      "outputs": [
        {
          "name": "stdout",
          "output_type": "stream",
          "text": [
            "Fido barks: \"Woof!\"\n"
          ]
        }
      ],
      "source": [
        "fido = Dog('Fido')\n",
        "fido.bark()"
      ]
    },
    {
      "cell_type": "code",
      "execution_count": null,
      "metadata": {
        "id": "5jdb8lHb5EFN",
        "outputId": "037f33cc-2a2a-4a83-a17b-d3925f7ae2a5"
      },
      "outputs": [
        {
          "name": "stdout",
          "output_type": "stream",
          "text": [
            "Rex barks: \"Woof!\"\n"
          ]
        }
      ],
      "source": [
        "rex.bark()"
      ]
    },
    {
      "cell_type": "markdown",
      "metadata": {
        "id": "j5SQSM2u5EFN"
      },
      "source": [
        "## Training Methods"
      ]
    },
    {
      "cell_type": "markdown",
      "metadata": {
        "id": "tNhhJGBO5EFN"
      },
      "source": [
        "### Mini-Batch"
      ]
    },
    {
      "cell_type": "code",
      "execution_count": null,
      "metadata": {
        "id": "EqacQZ0P5EFN"
      },
      "outputs": [],
      "source": [
        "def _mini_batch(self, validation=False):\n",
        "    # The mini-batch can be used with both loaders\n",
        "    # The argument `validation`defines which loader and\n",
        "    # corresponding step function is going to be used\n",
        "    if validation:\n",
        "        data_loader = self.val_loader\n",
        "        step_fn = self.val_step_fn\n",
        "    else:\n",
        "        data_loader = self.train_loader\n",
        "        step_fn = self.train_step_fn\n",
        "\n",
        "    if data_loader is None:\n",
        "        return None\n",
        "\n",
        "    # Once the data loader and step function, this is the same\n",
        "    # mini-batch loop we had before\n",
        "    mini_batch_losses = []\n",
        "    for x_batch, y_batch in data_loader:\n",
        "        x_batch = x_batch.to(self.device)\n",
        "        y_batch = y_batch.to(self.device)\n",
        "\n",
        "        mini_batch_loss = step_fn(x_batch, y_batch)\n",
        "        mini_batch_losses.append(mini_batch_loss)\n",
        "\n",
        "    loss = np.mean(mini_batch_losses)\n",
        "\n",
        "    return loss\n",
        "\n",
        "setattr(StepByStep, '_mini_batch', _mini_batch)"
      ]
    },
    {
      "cell_type": "markdown",
      "metadata": {
        "id": "Pcjcf8OB5EFO"
      },
      "source": [
        "### Training Loop"
      ]
    },
    {
      "cell_type": "code",
      "execution_count": null,
      "metadata": {
        "id": "pYtOzZ9i5EFO"
      },
      "outputs": [],
      "source": [
        "def set_seed(self, seed=42):\n",
        "    torch.backends.cudnn.deterministic = True\n",
        "    torch.backends.cudnn.benchmark = False\n",
        "    torch.manual_seed(seed)\n",
        "    np.random.seed(seed)\n",
        "\n",
        "setattr(StepByStep, 'set_seed', set_seed)"
      ]
    },
    {
      "cell_type": "code",
      "execution_count": null,
      "metadata": {
        "id": "_Efmf48S5EFO"
      },
      "outputs": [],
      "source": [
        "def train(self, n_epochs, seed=42):\n",
        "    # To ensure reproducibility of the training process\n",
        "    self.set_seed(seed)\n",
        "\n",
        "    for epoch in range(n_epochs):\n",
        "        # Keeps track of the numbers of epochs\n",
        "        # by updating the corresponding attribute\n",
        "        self.total_epochs += 1\n",
        "\n",
        "        # inner loop\n",
        "        # Performs training using mini-batches\n",
        "        loss = self._mini_batch(validation=False)\n",
        "        self.losses.append(loss)\n",
        "\n",
        "        # VALIDATION\n",
        "        # no gradients in validation!\n",
        "        with torch.no_grad():\n",
        "            # Performs evaluation using mini-batches\n",
        "            val_loss = self._mini_batch(validation=True)\n",
        "            self.val_losses.append(val_loss)\n",
        "\n",
        "        # If a SummaryWriter has been set...\n",
        "        if self.writer:\n",
        "            scalars = {'training': loss}\n",
        "            if val_loss is not None:\n",
        "                scalars.update({'validation': val_loss})\n",
        "            # Records both losses for each epoch under the main tag \"loss\"\n",
        "            self.writer.add_scalars(main_tag='loss',\n",
        "                                    tag_scalar_dict=scalars,\n",
        "                                    global_step=epoch)\n",
        "\n",
        "    if self.writer:\n",
        "        # Flushes the writer\n",
        "        self.writer.flush()\n",
        "\n",
        "setattr(StepByStep, 'train', train)"
      ]
    },
    {
      "cell_type": "markdown",
      "metadata": {
        "id": "jxDp5Bqi5EFO"
      },
      "source": [
        "## Saving and Loading Methods"
      ]
    },
    {
      "cell_type": "markdown",
      "metadata": {
        "id": "6x5vWC_L5EFP"
      },
      "source": [
        "### Saving"
      ]
    },
    {
      "cell_type": "code",
      "execution_count": null,
      "metadata": {
        "id": "8e4Joiju5EFP"
      },
      "outputs": [],
      "source": [
        "def save_checkpoint(self, filename):\n",
        "    # Builds dictionary with all elements for resuming training\n",
        "    checkpoint = {'epoch': self.total_epochs,\n",
        "                  'model_state_dict': self.model.state_dict(),\n",
        "                  'optimizer_state_dict': self.optimizer.state_dict(),\n",
        "                  'loss': self.losses,\n",
        "                  'val_loss': self.val_losses}\n",
        "\n",
        "    torch.save(checkpoint, filename)\n",
        "\n",
        "setattr(StepByStep, 'save_checkpoint', save_checkpoint)"
      ]
    },
    {
      "cell_type": "markdown",
      "metadata": {
        "id": "Sozh6RmA5EFP"
      },
      "source": [
        "### Loading"
      ]
    },
    {
      "cell_type": "code",
      "execution_count": null,
      "metadata": {
        "id": "3cUYBPfM5EFP"
      },
      "outputs": [],
      "source": [
        "def load_checkpoint(self, filename):\n",
        "    # Loads dictionary\n",
        "    checkpoint = torch.load(filename, weights_only=False)\n",
        "\n",
        "    # Restore state for model and optimizer\n",
        "    self.model.load_state_dict(checkpoint['model_state_dict'])\n",
        "    self.optimizer.load_state_dict(checkpoint['optimizer_state_dict'])\n",
        "\n",
        "    self.total_epochs = checkpoint['epoch']\n",
        "    self.losses = checkpoint['loss']\n",
        "    self.val_losses = checkpoint['val_loss']\n",
        "\n",
        "    self.model.train() # always use TRAIN for resuming training\n",
        "\n",
        "setattr(StepByStep, 'load_checkpoint', load_checkpoint)"
      ]
    },
    {
      "cell_type": "markdown",
      "metadata": {
        "id": "bRNo2TTQ5EFP"
      },
      "source": [
        "### Making Predictions"
      ]
    },
    {
      "cell_type": "code",
      "execution_count": null,
      "metadata": {
        "id": "2NDhxM2S5EFW"
      },
      "outputs": [],
      "source": [
        "def predict(self, x):\n",
        "    # Set is to evaluation mode for predictions\n",
        "    self.model.eval()\n",
        "    # Takes aNumpy input and make it a float tensor\n",
        "    x_tensor = torch.as_tensor(x).float()\n",
        "    # Send input to device and uses model for prediction\n",
        "    y_hat_tensor = self.model(x_tensor.to(self.device))\n",
        "    # Set it back to train mode\n",
        "    self.model.train()\n",
        "    # Detaches it, brings it to CPU and back to Numpy\n",
        "    return y_hat_tensor.detach().cpu().numpy()\n",
        "\n",
        "setattr(StepByStep, 'predict', predict)"
      ]
    },
    {
      "cell_type": "markdown",
      "metadata": {
        "id": "sqHPf5T45EFW"
      },
      "source": [
        "## Visualization Methods"
      ]
    },
    {
      "cell_type": "markdown",
      "metadata": {
        "id": "GMk6QlVK5EFW"
      },
      "source": [
        "### Losses"
      ]
    },
    {
      "cell_type": "code",
      "execution_count": null,
      "metadata": {
        "id": "nfR-L8dN5EFX"
      },
      "outputs": [],
      "source": [
        "def plot_losses(self):\n",
        "    fig = plt.figure(figsize=(10, 4))\n",
        "    plt.plot(self.losses, label='Training Loss', c='b')\n",
        "    if self.val_loader:\n",
        "        plt.plot(self.val_losses, label='Validation Loss', c='r')\n",
        "    plt.yscale('log')\n",
        "    plt.xlabel('Epochs')\n",
        "    plt.ylabel('Loss')\n",
        "    plt.legend()\n",
        "    plt.tight_layout()\n",
        "    return fig\n",
        "\n",
        "setattr(StepByStep, 'plot_losses', plot_losses)"
      ]
    },
    {
      "cell_type": "markdown",
      "metadata": {
        "id": "KjQYqCwA5EFX"
      },
      "source": [
        "### Model Graph"
      ]
    },
    {
      "cell_type": "code",
      "execution_count": null,
      "metadata": {
        "id": "fTop_zqj5EFX"
      },
      "outputs": [],
      "source": [
        "def add_graph(self):\n",
        "    if self.train_loader and self.writer:\n",
        "        # Fetches a single mini-batch so we can use add_graph\n",
        "        x_sample, y_sample = next(iter(self.train_loader))\n",
        "        self.writer.add_graph(self.model, x_sample.to(self.device))\n",
        "\n",
        "setattr(StepByStep, 'add_graph', add_graph)"
      ]
    },
    {
      "cell_type": "markdown",
      "metadata": {
        "id": "uWc3Z1HM5EFX"
      },
      "source": [
        "## The Full Code"
      ]
    },
    {
      "cell_type": "code",
      "execution_count": 12,
      "metadata": {
        "id": "1s7sZvh95EFX"
      },
      "outputs": [],
      "source": [
        "# %load stepbystep/v0.py\n",
        "\n",
        "import numpy as np\n",
        "import datetime\n",
        "import torch\n",
        "import matplotlib.pyplot as plt\n",
        "from torch.utils.tensorboard import SummaryWriter\n",
        "\n",
        "plt.style.use('fivethirtyeight')\n",
        "\n",
        "class StepByStep(object):\n",
        "    def __init__(self, model, loss_fn, optimizer):\n",
        "        # Here we define the attributes of our class\n",
        "\n",
        "        # We start by storing the arguments as attributes\n",
        "        # to use them later\n",
        "        self.model = model\n",
        "        self.loss_fn = loss_fn\n",
        "        self.optimizer = optimizer\n",
        "        self.device = 'cuda' if torch.cuda.is_available() else 'cpu'\n",
        "        # Let's send the model to the specified device right away\n",
        "        self.model.to(self.device)\n",
        "\n",
        "        # These attributes are defined here, but since they are\n",
        "        # not informed at the moment of creation, we keep them None\n",
        "        self.train_loader = None\n",
        "        self.val_loader = None\n",
        "        self.writer = None\n",
        "\n",
        "        # These attributes are going to be computed internally\n",
        "        self.losses = []\n",
        "        self.val_losses = []\n",
        "        self.total_epochs = 0\n",
        "\n",
        "        # Creates the train_step function for our model,\n",
        "        # loss function and optimizer\n",
        "        # Note: there are NO ARGS there! It makes use of the class\n",
        "        # attributes directly\n",
        "        self.train_step_fn = self._make_train_step_fn()\n",
        "        # Creates the val_step function for our model and loss\n",
        "        self.val_step_fn = self._make_val_step_fn()\n",
        "\n",
        "    def to(self, device):\n",
        "        # This method allows the user to specify a different device\n",
        "        # It sets the corresponding attribute (to be used later in\n",
        "        # the mini-batches) and sends the model to the device\n",
        "        try:\n",
        "            self.device = device\n",
        "            self.model.to(self.device)\n",
        "        except RuntimeError:\n",
        "            self.device = 'cuda' if torch.cuda.is_available() else 'cpu'\n",
        "            print(f\"Couldn't send it to {device}, sending it to {self.device} instead.\")\n",
        "            self.model.to(self.device)\n",
        "\n",
        "    def set_loaders(self, train_loader, val_loader=None):\n",
        "        # This method allows the user to define which train_loader (and val_loader, optionally) to use\n",
        "        # Both loaders are then assigned to attributes of the class\n",
        "        # So they can be referred to later\n",
        "        self.train_loader = train_loader\n",
        "        self.val_loader = val_loader\n",
        "\n",
        "    def set_tensorboard(self, name, folder='runs'):\n",
        "        # This method allows the user to define a SummaryWriter to interface with TensorBoard\n",
        "        suffix = datetime.datetime.now().strftime('%Y%m%d%H%M%S')\n",
        "        self.writer = SummaryWriter(f'{folder}/{name}_{suffix}')\n",
        "\n",
        "    def _make_train_step_fn(self):\n",
        "        # This method does not need ARGS... it can refer to\n",
        "        # the attributes: self.model, self.loss_fn and self.optimizer\n",
        "\n",
        "        # Builds function that performs a step in the train loop\n",
        "        def perform_train_step_fn(x, y):\n",
        "            # Sets model to TRAIN mode\n",
        "            self.model.train()\n",
        "\n",
        "            # Step 1 - Computes our model's predicted output - forward pass\n",
        "            yhat = self.model(x)\n",
        "            # Step 2 - Computes the loss\n",
        "            loss = self.loss_fn(yhat, y)\n",
        "            # Step 3 - Computes gradients for both \"a\" and \"b\" parameters\n",
        "            loss.backward()\n",
        "            # Step 4 - Updates parameters using gradients and the learning rate\n",
        "            self.optimizer.step()\n",
        "            self.optimizer.zero_grad()\n",
        "\n",
        "            # Returns the loss\n",
        "            return loss.item()\n",
        "\n",
        "        # Returns the function that will be called inside the train loop\n",
        "        return perform_train_step_fn\n",
        "\n",
        "    def _make_val_step_fn(self):\n",
        "        # Builds function that performs a step in the validation loop\n",
        "        def perform_val_step_fn(x, y):\n",
        "            # Sets model to EVAL mode\n",
        "            self.model.eval()\n",
        "\n",
        "            # Step 1 - Computes our model's predicted output - forward pass\n",
        "            yhat = self.model(x)\n",
        "            # Step 2 - Computes the loss\n",
        "            loss = self.loss_fn(yhat, y)\n",
        "            # There is no need to compute Steps 3 and 4,\n",
        "            # since we don't update parameters during evaluation\n",
        "            return loss.item()\n",
        "\n",
        "        return perform_val_step_fn\n",
        "\n",
        "    def _mini_batch(self, validation=False):\n",
        "        # The mini-batch can be used with both loaders\n",
        "        # The argument `validation`defines which loader and\n",
        "        # corresponding step function is going to be used\n",
        "        if validation:\n",
        "            data_loader = self.val_loader\n",
        "            step_fn = self.val_step_fn\n",
        "        else:\n",
        "            data_loader = self.train_loader\n",
        "            step_fn = self.train_step_fn\n",
        "\n",
        "        if data_loader is None:\n",
        "            return None\n",
        "\n",
        "        # Once the data loader and step function, this is the\n",
        "        # same mini-batch loop we had before\n",
        "        mini_batch_losses = []\n",
        "        for x_batch, y_batch in data_loader:\n",
        "            x_batch = x_batch.to(self.device)\n",
        "            y_batch = y_batch.to(self.device)\n",
        "\n",
        "            mini_batch_loss = step_fn(x_batch, y_batch)\n",
        "            mini_batch_losses.append(mini_batch_loss)\n",
        "\n",
        "        loss = np.mean(mini_batch_losses)\n",
        "        return loss\n",
        "\n",
        "    def set_seed(self, seed=42):\n",
        "        torch.backends.cudnn.deterministic = True\n",
        "        torch.backends.cudnn.benchmark = False\n",
        "        torch.manual_seed(seed)\n",
        "        np.random.seed(seed)\n",
        "\n",
        "    def train(self, n_epochs, seed=42):\n",
        "        # To ensure reproducibility of the training process\n",
        "        self.set_seed(seed)\n",
        "\n",
        "        for epoch in range(n_epochs):\n",
        "            # Keeps track of the numbers of epochs\n",
        "            # by updating the corresponding attribute\n",
        "            self.total_epochs += 1\n",
        "\n",
        "            # inner loop\n",
        "            # Performs training using mini-batches\n",
        "            loss = self._mini_batch(validation=False)\n",
        "            self.losses.append(loss)\n",
        "\n",
        "            # VALIDATION\n",
        "            # no gradients in validation!\n",
        "            with torch.no_grad():\n",
        "                # Performs evaluation using mini-batches\n",
        "                val_loss = self._mini_batch(validation=True)\n",
        "                self.val_losses.append(val_loss)\n",
        "\n",
        "            # If a SummaryWriter has been set...\n",
        "            if self.writer:\n",
        "                scalars = {'training': loss}\n",
        "                if val_loss is not None:\n",
        "                    scalars.update({'validation': val_loss})\n",
        "                # Records both losses for each epoch under the main tag \"loss\"\n",
        "                self.writer.add_scalars(main_tag='loss',\n",
        "                                        tag_scalar_dict=scalars,\n",
        "                                        global_step=epoch)\n",
        "\n",
        "        if self.writer:\n",
        "            # Closes the writer\n",
        "            self.writer.close()\n",
        "\n",
        "    def save_checkpoint(self, filename):\n",
        "        # Builds dictionary with all elements for resuming training\n",
        "        checkpoint = {'epoch': self.total_epochs,\n",
        "                      'model_state_dict': self.model.state_dict(),\n",
        "                      'optimizer_state_dict': self.optimizer.state_dict(),\n",
        "                      'loss': self.losses,\n",
        "                      'val_loss': self.val_losses}\n",
        "\n",
        "        torch.save(checkpoint, filename)\n",
        "\n",
        "    def load_checkpoint(self, filename):\n",
        "        # Loads dictionary\n",
        "        checkpoint = torch.load(filename, weights_only=False)\n",
        "\n",
        "        # Restore state for model and optimizer\n",
        "        self.model.load_state_dict(checkpoint['model_state_dict'])\n",
        "        self.optimizer.load_state_dict(checkpoint['optimizer_state_dict'])\n",
        "\n",
        "        self.total_epochs = checkpoint['epoch']\n",
        "        self.losses = checkpoint['loss']\n",
        "        self.val_losses = checkpoint['val_loss']\n",
        "\n",
        "        self.model.train() # always use TRAIN for resuming training\n",
        "\n",
        "    def predict(self, x):\n",
        "        # Set is to evaluation mode for predictions\n",
        "        self.model.eval()\n",
        "        # Takes aNumpy input and make it a float tensor\n",
        "        x_tensor = torch.as_tensor(x).float()\n",
        "        # Send input to device and uses model for prediction\n",
        "        y_hat_tensor = self.model(x_tensor.to(self.device))\n",
        "        # Set it back to train mode\n",
        "        self.model.train()\n",
        "        # Detaches it, brings it to CPU and back to Numpy\n",
        "        return y_hat_tensor.detach().cpu().numpy()\n",
        "\n",
        "    def plot_losses(self):\n",
        "        fig = plt.figure(figsize=(10, 4))\n",
        "        plt.plot(self.losses, label='Training Loss', c='b')\n",
        "        plt.plot(self.val_losses, label='Validation Loss', c='r')\n",
        "        plt.yscale('log')\n",
        "        plt.xlabel('Epochs')\n",
        "        plt.ylabel('Loss')\n",
        "        plt.legend()\n",
        "        plt.tight_layout()\n",
        "        return fig\n",
        "\n",
        "    def add_graph(self):\n",
        "        # Fetches a single mini-batch so we can use add_graph\n",
        "        if self.train_loader and self.writer:\n",
        "            x_sample, y_sample = next(iter(self.train_loader))\n",
        "            self.writer.add_graph(self.model, x_sample.to(self.device))\n"
      ]
    },
    {
      "cell_type": "markdown",
      "metadata": {
        "id": "S9MPbMWl5EFY"
      },
      "source": [
        "## Classy Pipeline"
      ]
    },
    {
      "cell_type": "markdown",
      "metadata": {
        "id": "Gl8P7TB85EFY"
      },
      "source": [
        "### Data Generation"
      ]
    },
    {
      "cell_type": "code",
      "execution_count": 4,
      "metadata": {
        "id": "285lo_2F5EFZ"
      },
      "outputs": [],
      "source": [
        "# Runs data generation - so we do not need to copy code here\n",
        "%run -i data_generation/simple_linear_regression.py"
      ]
    },
    {
      "cell_type": "code",
      "execution_count": 5,
      "metadata": {
        "id": "ek7Na8Ie5EFZ",
        "outputId": "b951aab3-3223-451c-f76e-36390b64ad45",
        "colab": {
          "base_uri": "https://localhost:8080/",
          "height": 595
        }
      },
      "outputs": [
        {
          "output_type": "display_data",
          "data": {
            "text/plain": [
              "<Figure size 600x600 with 1 Axes>"
            ],
            "image/png": "[encoded data removed]"
          },
          "metadata": {}
        }
      ],
      "source": [
        "fig = figure1(x, y)"
      ]
    },
    {
      "cell_type": "markdown",
      "metadata": {
        "id": "Zs52pkcP5EFZ"
      },
      "source": [
        "### Data Preparation V2"
      ]
    },
    {
      "cell_type": "code",
      "execution_count": 6,
      "metadata": {
        "id": "GhjHfFZA5EFZ"
      },
      "outputs": [],
      "source": [
        "# %load data_preparation/v2.py\n",
        "\n",
        "torch.manual_seed(13)\n",
        "\n",
        "# Builds tensors from numpy arrays BEFORE split\n",
        "x_tensor = torch.as_tensor(x).float()\n",
        "y_tensor = torch.as_tensor(y).float()\n",
        "\n",
        "# Builds dataset containing ALL data points\n",
        "dataset = TensorDataset(x_tensor, y_tensor)\n",
        "\n",
        "# Performs the split\n",
        "ratio = .8\n",
        "n_total = len(dataset)\n",
        "n_train = int(n_total * ratio)\n",
        "n_val = n_total - n_train\n",
        "\n",
        "train_data, val_data = random_split(dataset, [n_train, n_val])\n",
        "\n",
        "# Builds a loader of each set\n",
        "train_loader = DataLoader(dataset=train_data, batch_size=16, shuffle=True)\n",
        "val_loader = DataLoader(dataset=val_data, batch_size=16)"
      ]
    },
    {
      "cell_type": "markdown",
      "metadata": {
        "id": "m2r7U4jc5EFZ"
      },
      "source": [
        "### Model Configuration V4"
      ]
    },
    {
      "cell_type": "code",
      "execution_count": 7,
      "metadata": {
        "id": "TjQVCA2k5EFa",
        "outputId": "937a1ece-f96c-479a-93cc-d1045b412f34",
        "colab": {
          "base_uri": "https://localhost:8080/"
        }
      },
      "outputs": [
        {
          "output_type": "stream",
          "name": "stdout",
          "text": [
            "Writing model_configuration/v4.py\n"
          ]
        }
      ],
      "source": [
        "%%writefile model_configuration/v4.py\n",
        "\n",
        "# Sets learning rate - this is \"eta\" ~ the \"n\" like Greek letter\n",
        "lr = 0.1\n",
        "\n",
        "torch.manual_seed(42)\n",
        "# Now we can create a model and send it at once to the device\n",
        "model = nn.Sequential(nn.Linear(1, 1))\n",
        "\n",
        "# Defines a SGD optimizer to update the parameters\n",
        "# (now retrieved directly from the model)\n",
        "optimizer = optim.SGD(model.parameters(), lr=lr)\n",
        "\n",
        "# Defines a MSE loss function\n",
        "loss_fn = nn.MSELoss(reduction='mean')"
      ]
    },
    {
      "cell_type": "code",
      "execution_count": 9,
      "metadata": {
        "id": "VankIPAh5EFa"
      },
      "outputs": [],
      "source": [
        "%run -i model_configuration/v4.py"
      ]
    },
    {
      "cell_type": "code",
      "execution_count": 10,
      "metadata": {
        "id": "SGeZr2M-5EFa",
        "outputId": "0f004aed-f8f4-4276-c082-c36b8c535fe5",
        "colab": {
          "base_uri": "https://localhost:8080/"
        }
      },
      "outputs": [
        {
          "output_type": "stream",
          "name": "stdout",
          "text": [
            "OrderedDict([('0.weight', tensor([[0.7645]])), ('0.bias', tensor([0.8300]))])\n"
          ]
        }
      ],
      "source": [
        "print(model.state_dict())"
      ]
    },
    {
      "cell_type": "markdown",
      "metadata": {
        "id": "YBwW4yRt5EFb"
      },
      "source": [
        "## Model Training"
      ]
    },
    {
      "cell_type": "markdown",
      "metadata": {
        "id": "GRqVsSzP5EFb"
      },
      "source": [
        "### Cell 2.1.1"
      ]
    },
    {
      "cell_type": "code",
      "execution_count": 13,
      "metadata": {
        "id": "mxjb3-Ya5EFb"
      },
      "outputs": [],
      "source": [
        "sbs = StepByStep(model, loss_fn, optimizer)\n",
        "sbs.set_loaders(train_loader, val_loader)\n",
        "sbs.set_tensorboard('classy')"
      ]
    },
    {
      "cell_type": "code",
      "execution_count": 14,
      "metadata": {
        "id": "OK6_F-TD5EFb",
        "outputId": "77fe0153-6044-43c3-a740-63eae44f8edd",
        "colab": {
          "base_uri": "https://localhost:8080/"
        }
      },
      "outputs": [
        {
          "output_type": "stream",
          "name": "stdout",
          "text": [
            "True\n",
            "Sequential(\n",
            "  (0): Linear(in_features=1, out_features=1, bias=True)\n",
            ")\n"
          ]
        }
      ],
      "source": [
        "print(sbs.model == model)\n",
        "print(sbs.model)"
      ]
    },
    {
      "cell_type": "markdown",
      "metadata": {
        "id": "g2pfsXCU5EFc"
      },
      "source": [
        "### Cell 2.1.2"
      ]
    },
    {
      "cell_type": "code",
      "execution_count": 15,
      "metadata": {
        "id": "ncqsLCyh5EFc"
      },
      "outputs": [],
      "source": [
        "sbs.train(n_epochs=200)"
      ]
    },
    {
      "cell_type": "code",
      "execution_count": 16,
      "metadata": {
        "id": "KFj4_J4J5EFc",
        "outputId": "6d82c2ca-b0f4-41bc-a8fe-f1789e5d9573",
        "colab": {
          "base_uri": "https://localhost:8080/"
        }
      },
      "outputs": [
        {
          "output_type": "stream",
          "name": "stdout",
          "text": [
            "OrderedDict([('0.weight', tensor([[1.9416]])), ('0.bias', tensor([1.0235]))])\n",
            "200\n"
          ]
        }
      ],
      "source": [
        "print(model.state_dict()) # remember, model == sbs.model\n",
        "print(sbs.total_epochs)"
      ]
    },
    {
      "cell_type": "code",
      "execution_count": 17,
      "metadata": {
        "scrolled": true,
        "id": "-lU77Z135EFc",
        "outputId": "562860d9-b97a-4bcc-ae76-d0ad59dc1f24",
        "colab": {
          "base_uri": "https://localhost:8080/",
          "height": 395
        }
      },
      "outputs": [
        {
          "output_type": "display_data",
          "data": {
            "text/plain": [
              "<Figure size 1000x400 with 1 Axes>"
            ],
            "image/png": "[encoded data removed]"
          },
          "metadata": {}
        }
      ],
      "source": [
        "fig = sbs.plot_losses()"
      ]
    },
    {
      "cell_type": "markdown",
      "metadata": {
        "id": "GzZZIFkc5EFd"
      },
      "source": [
        "### Making Predictions"
      ]
    },
    {
      "cell_type": "code",
      "execution_count": 18,
      "metadata": {
        "id": "NaPnKPAR5EFd",
        "outputId": "326d18f0-2c18-4982-880f-a366839423b1",
        "colab": {
          "base_uri": "https://localhost:8080/"
        }
      },
      "outputs": [
        {
          "output_type": "execute_result",
          "data": {
            "text/plain": [
              "array([[0.5],\n",
              "       [0.3],\n",
              "       [0.7]])"
            ]
          },
          "metadata": {},
          "execution_count": 18
        }
      ],
      "source": [
        "new_data = np.array([.5, .3, .7]).reshape(-1, 1)\n",
        "new_data"
      ]
    },
    {
      "cell_type": "code",
      "execution_count": 19,
      "metadata": {
        "id": "uFfZy7qe5EFd",
        "outputId": "b6b19c7b-9938-40db-b77a-433462762186",
        "colab": {
          "base_uri": "https://localhost:8080/"
        }
      },
      "outputs": [
        {
          "output_type": "execute_result",
          "data": {
            "text/plain": [
              "array([[1.9942763],\n",
              "       [1.605955 ],\n",
              "       [2.3825974]], dtype=float32)"
            ]
          },
          "metadata": {},
          "execution_count": 19
        }
      ],
      "source": [
        "predictions = sbs.predict(new_data)\n",
        "predictions"
      ]
    },
    {
      "cell_type": "markdown",
      "metadata": {
        "id": "R3lrjBDk5EFd"
      },
      "source": [
        "### Checkpointing"
      ]
    },
    {
      "cell_type": "markdown",
      "metadata": {
        "id": "JcdyA9Un5EFe"
      },
      "source": [
        "### Cell 2.1.3"
      ]
    },
    {
      "cell_type": "code",
      "execution_count": 20,
      "metadata": {
        "id": "lZ-W24GA5EFe"
      },
      "outputs": [],
      "source": [
        "sbs.save_checkpoint('model_checkpoint.pth')"
      ]
    },
    {
      "cell_type": "markdown",
      "metadata": {
        "id": "tZACf4yI5EFe"
      },
      "source": [
        "### Resuming Training"
      ]
    },
    {
      "cell_type": "code",
      "execution_count": 21,
      "metadata": {
        "id": "l4HeE0FA5EFe",
        "colab": {
          "base_uri": "https://localhost:8080/",
          "height": 34
        },
        "outputId": "da88644e-6581-4999-a856-fa25a5214298"
      },
      "outputs": [
        {
          "output_type": "display_data",
          "data": {
            "text/plain": [
              "<Figure size 640x480 with 0 Axes>"
            ]
          },
          "metadata": {}
        }
      ],
      "source": [
        "%run -i model_configuration/v4.py"
      ]
    },
    {
      "cell_type": "code",
      "execution_count": 22,
      "metadata": {
        "id": "Z-EThsPF5EFe",
        "outputId": "f3ca92c3-85a0-4349-bf0f-5cc1084e986d",
        "colab": {
          "base_uri": "https://localhost:8080/"
        }
      },
      "outputs": [
        {
          "output_type": "stream",
          "name": "stdout",
          "text": [
            "OrderedDict([('0.weight', tensor([[0.7645]])), ('0.bias', tensor([0.8300]))])\n"
          ]
        }
      ],
      "source": [
        "print(model.state_dict())"
      ]
    },
    {
      "cell_type": "markdown",
      "metadata": {
        "id": "hlkXDasK5EFf"
      },
      "source": [
        "### Cell 2.1.4"
      ]
    },
    {
      "cell_type": "code",
      "execution_count": 23,
      "metadata": {
        "id": "aaANB-bm5EFf"
      },
      "outputs": [],
      "source": [
        "new_sbs = StepByStep(model, loss_fn, optimizer)"
      ]
    },
    {
      "cell_type": "markdown",
      "metadata": {
        "id": "qzXaPQVI5EFf"
      },
      "source": [
        "### Cell 2.1.5"
      ]
    },
    {
      "cell_type": "code",
      "execution_count": 24,
      "metadata": {
        "id": "HiTxQqtn5EFf",
        "outputId": "f1bfff8b-e284-423d-812d-ebab147cb73a",
        "colab": {
          "base_uri": "https://localhost:8080/"
        }
      },
      "outputs": [
        {
          "output_type": "stream",
          "name": "stdout",
          "text": [
            "OrderedDict([('0.weight', tensor([[1.9416]])), ('0.bias', tensor([1.0235]))])\n"
          ]
        }
      ],
      "source": [
        "new_sbs.load_checkpoint('model_checkpoint.pth')\n",
        "print(model.state_dict())"
      ]
    },
    {
      "cell_type": "markdown",
      "metadata": {
        "id": "6sshavfl5EFg"
      },
      "source": [
        "### Cell 2.1.6"
      ]
    },
    {
      "cell_type": "code",
      "execution_count": 25,
      "metadata": {
        "id": "v_jcNjyc5EFg"
      },
      "outputs": [],
      "source": [
        "new_sbs.set_loaders(train_loader, val_loader)\n",
        "new_sbs.train(n_epochs=50)"
      ]
    },
    {
      "cell_type": "code",
      "execution_count": 26,
      "metadata": {
        "id": "98qpIzfS5EFg",
        "outputId": "14815dcc-11cf-4efa-dc84-cfb1156526af",
        "colab": {
          "base_uri": "https://localhost:8080/",
          "height": 395
        }
      },
      "outputs": [
        {
          "output_type": "display_data",
          "data": {
            "text/plain": [
              "<Figure size 1000x400 with 1 Axes>"
            ],
            "image/png": "[encoded data removed]"
          },
          "metadata": {}
        }
      ],
      "source": [
        "fig = new_sbs.plot_losses()"
      ]
    },
    {
      "cell_type": "code",
      "execution_count": 27,
      "metadata": {
        "id": "Kqy5X_8u5EFg",
        "outputId": "8cb1ae11-8a79-4121-e4a0-84a5e594b2e6",
        "colab": {
          "base_uri": "https://localhost:8080/"
        }
      },
      "outputs": [
        {
          "output_type": "stream",
          "name": "stdout",
          "text": [
            "OrderedDict([('0.weight', tensor([[1.9416]])), ('0.bias', tensor([1.0235]))])\n"
          ]
        }
      ],
      "source": [
        "print(sbs.model.state_dict())"
      ]
    },
    {
      "cell_type": "markdown",
      "metadata": {
        "id": "-NfIdma_5EFg"
      },
      "source": [
        "# Putting It All Together"
      ]
    },
    {
      "cell_type": "code",
      "execution_count": 28,
      "metadata": {
        "id": "BQWQI8w-5EFh"
      },
      "outputs": [],
      "source": [
        "# %load data_preparation/v2.py\n",
        "\n",
        "torch.manual_seed(13)\n",
        "\n",
        "# Builds tensors from numpy arrays BEFORE split\n",
        "x_tensor = torch.as_tensor(x).float()\n",
        "y_tensor = torch.as_tensor(y).float()\n",
        "\n",
        "# Builds dataset containing ALL data points\n",
        "dataset = TensorDataset(x_tensor, y_tensor)\n",
        "\n",
        "# Performs the split\n",
        "ratio = .8\n",
        "n_total = len(dataset)\n",
        "n_train = int(n_total * ratio)\n",
        "n_val = n_total - n_train\n",
        "\n",
        "train_data, val_data = random_split(dataset, [n_train, n_val])\n",
        "\n",
        "# Builds a loader of each set\n",
        "train_loader = DataLoader(\n",
        "    dataset=train_data,\n",
        "    batch_size=16,\n",
        "    shuffle=True\n",
        ")\n",
        "val_loader = DataLoader(dataset=val_data, batch_size=16)"
      ]
    },
    {
      "cell_type": "code",
      "execution_count": 29,
      "metadata": {
        "id": "thQqWV9S5EFh"
      },
      "outputs": [],
      "source": [
        "# %load model_configuration/v4.py\n",
        "\n",
        "# Sets learning rate - this is \"eta\" ~ the \"n\" like Greek letter\n",
        "lr = 0.1\n",
        "\n",
        "torch.manual_seed(42)\n",
        "# Now we can create a model\n",
        "model = nn.Sequential(nn.Linear(1, 1))\n",
        "\n",
        "# Defines a SGD optimizer to update the parameters\n",
        "# (now retrieved directly from the model)\n",
        "optimizer = optim.SGD(model.parameters(), lr=lr)\n",
        "\n",
        "# Defines a MSE loss function\n",
        "loss_fn = nn.MSELoss(reduction='mean')"
      ]
    },
    {
      "cell_type": "code",
      "execution_count": 30,
      "metadata": {
        "id": "Yow72IIn5EFh"
      },
      "outputs": [],
      "source": [
        "n_epochs = 200\n",
        "\n",
        "sbs = StepByStep(model, loss_fn, optimizer)\n",
        "sbs.set_loaders(train_loader, val_loader)\n",
        "sbs.set_tensorboard('classy')\n",
        "sbs.train(n_epochs=n_epochs)"
      ]
    },
    {
      "cell_type": "code",
      "execution_count": 31,
      "metadata": {
        "id": "GvoDsuQb5EFh",
        "outputId": "9baf79d0-49a4-47f1-ff86-93fea50122f5",
        "colab": {
          "base_uri": "https://localhost:8080/"
        }
      },
      "outputs": [
        {
          "output_type": "stream",
          "name": "stdout",
          "text": [
            "OrderedDict([('0.weight', tensor([[1.9416]])), ('0.bias', tensor([1.0235]))])\n"
          ]
        }
      ],
      "source": [
        "print(model.state_dict())"
      ]
    },
    {
      "cell_type": "code",
      "execution_count": null,
      "metadata": {
        "id": "1xkbJQh45EFi"
      },
      "outputs": [],
      "source": []
    }
  ],
  "metadata": {
    "kernelspec": {
      "display_name": "Python 3 (ipykernel)",
      "language": "python",
      "name": "python3"
    },
    "language_info": {
      "codemirror_mode": {
        "name": "ipython",
        "version": 3
      },
      "file_extension": ".py",
      "mimetype": "text/x-python",
      "name": "python",
      "nbconvert_exporter": "python",
      "pygments_lexer": "ipython3",
      "version": "3.9.0"
    },
    "colab": {
      "provenance": [],
      "include_colab_link": true
    }
  },
  "nbformat": 4,
  "nbformat_minor": 0
}